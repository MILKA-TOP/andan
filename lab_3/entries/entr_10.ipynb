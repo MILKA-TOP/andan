{
 "cells": [
  {
   "cell_type": "code",
   "execution_count": 79,
   "metadata": {
    "collapsed": true
   },
   "outputs": [],
   "source": [
    "import pandas as pd\n",
    "import matplotlib.pyplot as plt\n",
    "import numpy as np\n",
    "import statsmodels.api as sm"
   ]
  },
  {
   "cell_type": "markdown",
   "source": [
    "Dataset Description\n",
    "Вам предоставлены данные об отзывах ресторанам Санкт-Петербурга и Москвы. Каждая строчка датасета содержит идентификаторы пользователя, ресторана, количество прошедших с 2018 года дней (ts), средний чек заведения и другие параметры ресторана\n",
    "\n",
    "Вам предлагается предсказать рейтинг ресторана, используя непараметрическую регрессию из python пакета sklearn. Использовать другие модели при решении нельзя\n",
    "\n",
    "Обученную на train модель примените к датасету test_x, чтобы предсказать рейтинг ресторанов из test_x. Предсказание запишите в файл в указанном ниже формате\n",
    "\n",
    "В файле-решении должно быть 2 колонки: идентификатор (kaggle требует его наличие) строки и предсказание модели"
   ],
   "metadata": {
    "collapsed": false
   }
  },
  {
   "cell_type": "code",
   "execution_count": 80,
   "outputs": [
    {
     "data": {
      "text/plain": "          id  rating_org\n0          0    1.872971\n1          1    4.695246\n2          2    4.862877\n3          3    0.579169\n4          4    3.941410\n...      ...         ...\n24660  24660    3.802087\n24661  24661    1.099415\n24662  24662    4.380465\n24663  24663    3.158071\n24664  24664    3.887917\n\n[24665 rows x 2 columns]",
      "text/html": "<div>\n<style scoped>\n    .dataframe tbody tr th:only-of-type {\n        vertical-align: middle;\n    }\n\n    .dataframe tbody tr th {\n        vertical-align: top;\n    }\n\n    .dataframe thead th {\n        text-align: right;\n    }\n</style>\n<table border=\"1\" class=\"dataframe\">\n  <thead>\n    <tr style=\"text-align: right;\">\n      <th></th>\n      <th>id</th>\n      <th>rating_org</th>\n    </tr>\n  </thead>\n  <tbody>\n    <tr>\n      <th>0</th>\n      <td>0</td>\n      <td>1.872971</td>\n    </tr>\n    <tr>\n      <th>1</th>\n      <td>1</td>\n      <td>4.695246</td>\n    </tr>\n    <tr>\n      <th>2</th>\n      <td>2</td>\n      <td>4.862877</td>\n    </tr>\n    <tr>\n      <th>3</th>\n      <td>3</td>\n      <td>0.579169</td>\n    </tr>\n    <tr>\n      <th>4</th>\n      <td>4</td>\n      <td>3.941410</td>\n    </tr>\n    <tr>\n      <th>...</th>\n      <td>...</td>\n      <td>...</td>\n    </tr>\n    <tr>\n      <th>24660</th>\n      <td>24660</td>\n      <td>3.802087</td>\n    </tr>\n    <tr>\n      <th>24661</th>\n      <td>24661</td>\n      <td>1.099415</td>\n    </tr>\n    <tr>\n      <th>24662</th>\n      <td>24662</td>\n      <td>4.380465</td>\n    </tr>\n    <tr>\n      <th>24663</th>\n      <td>24663</td>\n      <td>3.158071</td>\n    </tr>\n    <tr>\n      <th>24664</th>\n      <td>24664</td>\n      <td>3.887917</td>\n    </tr>\n  </tbody>\n</table>\n<p>24665 rows × 2 columns</p>\n</div>"
     },
     "execution_count": 80,
     "metadata": {},
     "output_type": "execute_result"
    }
   ],
   "source": [
    "sample_submission_df = pd.read_csv('data\\\\sample_submission.csv')\n",
    "\n",
    "sample_submission_df"
   ],
   "metadata": {
    "collapsed": false,
    "pycharm": {
     "name": "#%%\n"
    }
   }
  },
  {
   "cell_type": "code",
   "execution_count": 81,
   "outputs": [
    {
     "data": {
      "text/plain": "                    user_id                org_id  rating    ts user_city  \\\n0       7016090648418898986  17145242605301041786     5.0   754       spb   \n1       7984587338632361094   6994879043376924376     5.0    99       spb   \n2      12147560281443849509   5596242631024337097     5.0  1174       spb   \n3       9761706959109988045  16272893617101942587     5.0  1176       msk   \n4       5657837819564452133   3193067678075550767     4.0  1030       msk   \n...                     ...                   ...     ...   ...       ...   \n24660  18358457644115345255  17532855088852596891     5.0   486       msk   \n24661  17543062615122951822   7034326954454250932     5.0   773       msk   \n24662   1658949472261795605  14594426439384070672     1.0   793       msk   \n24663  18236897116718094922  10562954877317343611     5.0   722       msk   \n24664   4171960354054758801   5050962371507415522     5.0   724       msk   \n\n      org_city  average_bill   rubrics  food_delivery  breakfast  ...  \\\n0          spb        1000.0  Ресторан              1          1  ...   \n1          spb        1500.0  Ресторан              1          1  ...   \n2          spb         500.0      Кафе              1          0  ...   \n3          msk         500.0      Кафе              1          1  ...   \n4          msk           NaN      Кафе              1          1  ...   \n...        ...           ...       ...            ...        ...  ...   \n24660      msk           NaN  Ресторан              1          0  ...   \n24661      msk           NaN      Кафе              0          0  ...   \n24662      msk        1000.0  Бар, паб              1          1  ...   \n24663      msk        1000.0  Бар, паб              1          0  ...   \n24664      msk         500.0  Ресторан              1          1  ...   \n\n       call_button  wheelchair_accessible  table_games  vinotheque  \\\n0                0                      0            0           0   \n1                0                      0            0           0   \n2                0                      0            0           0   \n3                0                      0            0           0   \n4                0                      0            0           0   \n...            ...                    ...          ...         ...   \n24660            0                      0            0           0   \n24661            0                      0            0           0   \n24662            0                      0            1           0   \n24663            0                      0            0           0   \n24664            0                      0            0           0   \n\n       cakes_for_different_occasions  accepted_credit_cards  kalyan  teahouse  \\\n0                                  0                      0       0         0   \n1                                  0                      0       0         0   \n2                                  0                      0       0         0   \n3                                  0                      0       0         0   \n4                                  0                      0       0         0   \n...                              ...                    ...     ...       ...   \n24660                              0                      0       0         0   \n24661                              0                      0       0         0   \n24662                              0                      0       0         0   \n24663                              0                      0       0         0   \n24664                              0                      0       0         0   \n\n       bread_from_tandoor  handmade_goods  \n0                       0               0  \n1                       0               0  \n2                       0               0  \n3                       0               0  \n4                       0               0  \n...                   ...             ...  \n24660                   0               0  \n24661                   0               0  \n24662                   0               0  \n24663                   0               0  \n24664                   0               0  \n\n[24665 rows x 71 columns]",
      "text/html": "<div>\n<style scoped>\n    .dataframe tbody tr th:only-of-type {\n        vertical-align: middle;\n    }\n\n    .dataframe tbody tr th {\n        vertical-align: top;\n    }\n\n    .dataframe thead th {\n        text-align: right;\n    }\n</style>\n<table border=\"1\" class=\"dataframe\">\n  <thead>\n    <tr style=\"text-align: right;\">\n      <th></th>\n      <th>user_id</th>\n      <th>org_id</th>\n      <th>rating</th>\n      <th>ts</th>\n      <th>user_city</th>\n      <th>org_city</th>\n      <th>average_bill</th>\n      <th>rubrics</th>\n      <th>food_delivery</th>\n      <th>breakfast</th>\n      <th>...</th>\n      <th>call_button</th>\n      <th>wheelchair_accessible</th>\n      <th>table_games</th>\n      <th>vinotheque</th>\n      <th>cakes_for_different_occasions</th>\n      <th>accepted_credit_cards</th>\n      <th>kalyan</th>\n      <th>teahouse</th>\n      <th>bread_from_tandoor</th>\n      <th>handmade_goods</th>\n    </tr>\n  </thead>\n  <tbody>\n    <tr>\n      <th>0</th>\n      <td>7016090648418898986</td>\n      <td>17145242605301041786</td>\n      <td>5.0</td>\n      <td>754</td>\n      <td>spb</td>\n      <td>spb</td>\n      <td>1000.0</td>\n      <td>Ресторан</td>\n      <td>1</td>\n      <td>1</td>\n      <td>...</td>\n      <td>0</td>\n      <td>0</td>\n      <td>0</td>\n      <td>0</td>\n      <td>0</td>\n      <td>0</td>\n      <td>0</td>\n      <td>0</td>\n      <td>0</td>\n      <td>0</td>\n    </tr>\n    <tr>\n      <th>1</th>\n      <td>7984587338632361094</td>\n      <td>6994879043376924376</td>\n      <td>5.0</td>\n      <td>99</td>\n      <td>spb</td>\n      <td>spb</td>\n      <td>1500.0</td>\n      <td>Ресторан</td>\n      <td>1</td>\n      <td>1</td>\n      <td>...</td>\n      <td>0</td>\n      <td>0</td>\n      <td>0</td>\n      <td>0</td>\n      <td>0</td>\n      <td>0</td>\n      <td>0</td>\n      <td>0</td>\n      <td>0</td>\n      <td>0</td>\n    </tr>\n    <tr>\n      <th>2</th>\n      <td>12147560281443849509</td>\n      <td>5596242631024337097</td>\n      <td>5.0</td>\n      <td>1174</td>\n      <td>spb</td>\n      <td>spb</td>\n      <td>500.0</td>\n      <td>Кафе</td>\n      <td>1</td>\n      <td>0</td>\n      <td>...</td>\n      <td>0</td>\n      <td>0</td>\n      <td>0</td>\n      <td>0</td>\n      <td>0</td>\n      <td>0</td>\n      <td>0</td>\n      <td>0</td>\n      <td>0</td>\n      <td>0</td>\n    </tr>\n    <tr>\n      <th>3</th>\n      <td>9761706959109988045</td>\n      <td>16272893617101942587</td>\n      <td>5.0</td>\n      <td>1176</td>\n      <td>msk</td>\n      <td>msk</td>\n      <td>500.0</td>\n      <td>Кафе</td>\n      <td>1</td>\n      <td>1</td>\n      <td>...</td>\n      <td>0</td>\n      <td>0</td>\n      <td>0</td>\n      <td>0</td>\n      <td>0</td>\n      <td>0</td>\n      <td>0</td>\n      <td>0</td>\n      <td>0</td>\n      <td>0</td>\n    </tr>\n    <tr>\n      <th>4</th>\n      <td>5657837819564452133</td>\n      <td>3193067678075550767</td>\n      <td>4.0</td>\n      <td>1030</td>\n      <td>msk</td>\n      <td>msk</td>\n      <td>NaN</td>\n      <td>Кафе</td>\n      <td>1</td>\n      <td>1</td>\n      <td>...</td>\n      <td>0</td>\n      <td>0</td>\n      <td>0</td>\n      <td>0</td>\n      <td>0</td>\n      <td>0</td>\n      <td>0</td>\n      <td>0</td>\n      <td>0</td>\n      <td>0</td>\n    </tr>\n    <tr>\n      <th>...</th>\n      <td>...</td>\n      <td>...</td>\n      <td>...</td>\n      <td>...</td>\n      <td>...</td>\n      <td>...</td>\n      <td>...</td>\n      <td>...</td>\n      <td>...</td>\n      <td>...</td>\n      <td>...</td>\n      <td>...</td>\n      <td>...</td>\n      <td>...</td>\n      <td>...</td>\n      <td>...</td>\n      <td>...</td>\n      <td>...</td>\n      <td>...</td>\n      <td>...</td>\n      <td>...</td>\n    </tr>\n    <tr>\n      <th>24660</th>\n      <td>18358457644115345255</td>\n      <td>17532855088852596891</td>\n      <td>5.0</td>\n      <td>486</td>\n      <td>msk</td>\n      <td>msk</td>\n      <td>NaN</td>\n      <td>Ресторан</td>\n      <td>1</td>\n      <td>0</td>\n      <td>...</td>\n      <td>0</td>\n      <td>0</td>\n      <td>0</td>\n      <td>0</td>\n      <td>0</td>\n      <td>0</td>\n      <td>0</td>\n      <td>0</td>\n      <td>0</td>\n      <td>0</td>\n    </tr>\n    <tr>\n      <th>24661</th>\n      <td>17543062615122951822</td>\n      <td>7034326954454250932</td>\n      <td>5.0</td>\n      <td>773</td>\n      <td>msk</td>\n      <td>msk</td>\n      <td>NaN</td>\n      <td>Кафе</td>\n      <td>0</td>\n      <td>0</td>\n      <td>...</td>\n      <td>0</td>\n      <td>0</td>\n      <td>0</td>\n      <td>0</td>\n      <td>0</td>\n      <td>0</td>\n      <td>0</td>\n      <td>0</td>\n      <td>0</td>\n      <td>0</td>\n    </tr>\n    <tr>\n      <th>24662</th>\n      <td>1658949472261795605</td>\n      <td>14594426439384070672</td>\n      <td>1.0</td>\n      <td>793</td>\n      <td>msk</td>\n      <td>msk</td>\n      <td>1000.0</td>\n      <td>Бар, паб</td>\n      <td>1</td>\n      <td>1</td>\n      <td>...</td>\n      <td>0</td>\n      <td>0</td>\n      <td>1</td>\n      <td>0</td>\n      <td>0</td>\n      <td>0</td>\n      <td>0</td>\n      <td>0</td>\n      <td>0</td>\n      <td>0</td>\n    </tr>\n    <tr>\n      <th>24663</th>\n      <td>18236897116718094922</td>\n      <td>10562954877317343611</td>\n      <td>5.0</td>\n      <td>722</td>\n      <td>msk</td>\n      <td>msk</td>\n      <td>1000.0</td>\n      <td>Бар, паб</td>\n      <td>1</td>\n      <td>0</td>\n      <td>...</td>\n      <td>0</td>\n      <td>0</td>\n      <td>0</td>\n      <td>0</td>\n      <td>0</td>\n      <td>0</td>\n      <td>0</td>\n      <td>0</td>\n      <td>0</td>\n      <td>0</td>\n    </tr>\n    <tr>\n      <th>24664</th>\n      <td>4171960354054758801</td>\n      <td>5050962371507415522</td>\n      <td>5.0</td>\n      <td>724</td>\n      <td>msk</td>\n      <td>msk</td>\n      <td>500.0</td>\n      <td>Ресторан</td>\n      <td>1</td>\n      <td>1</td>\n      <td>...</td>\n      <td>0</td>\n      <td>0</td>\n      <td>0</td>\n      <td>0</td>\n      <td>0</td>\n      <td>0</td>\n      <td>0</td>\n      <td>0</td>\n      <td>0</td>\n      <td>0</td>\n    </tr>\n  </tbody>\n</table>\n<p>24665 rows × 71 columns</p>\n</div>"
     },
     "execution_count": 81,
     "metadata": {},
     "output_type": "execute_result"
    }
   ],
   "source": [
    "df_test = pd.read_csv('data\\\\test_x.csv')\n",
    "\n",
    "df_test"
   ],
   "metadata": {
    "collapsed": false,
    "pycharm": {
     "name": "#%%\n"
    }
   }
  },
  {
   "cell_type": "code",
   "execution_count": 82,
   "outputs": [
    {
     "data": {
      "text/plain": "                    user_id                org_id  rating    ts user_city  \\\n0      12182789761588196310  11946401375069641937     4.0   677       msk   \n1       2796544982129273287   5545859981678495568     5.0   577       msk   \n2      10546824832088319728   3451485117888180206     4.0   716       msk   \n3       9967742981458207920   9490041040735762889     3.0   639       spb   \n4      11046819495825038093   5234254278902729372     5.0   669       msk   \n...                     ...                   ...     ...   ...       ...   \n73990  12526944272743210441   2948132663120061820     2.0   517       msk   \n73991  17792383534781948527  13225228120465186798     5.0   455       msk   \n73992   7452326377200652192   1135274990644701922     5.0  1032       msk   \n73993    368322320223775667   2498968754330575170     5.0    27       msk   \n73994  12448748541229077418  10310753822165626445     5.0   699       spb   \n\n      org_city  average_bill  rating_org            rubrics  food_delivery  \\\n0          msk        1500.0    3.883212           Ресторан              1   \n1          msk        1000.0    4.495379           Ресторан              1   \n2          msk         500.0    4.576063               Кафе              1   \n3          spb        1000.0    3.775701               Кафе              1   \n4          msk         500.0    4.187500           Пиццерия              1   \n...        ...           ...         ...                ...            ...   \n73990      msk         500.0    4.280632  Булочная, пекарня              1   \n73991      msk           NaN    4.446033           Ресторан              0   \n73992      msk        1000.0    4.420231           Бар, паб              1   \n73993      msk           NaN    4.694307               Кафе              0   \n73994      spb           NaN    4.485873               Кафе              0   \n\n       ...  call_button  wheelchair_accessible  table_games  vinotheque  \\\n0      ...            0                      0            0           0   \n1      ...            0                      0            0           0   \n2      ...            0                      0            0           0   \n3      ...            0                      0            0           0   \n4      ...            0                      1            0           0   \n...    ...          ...                    ...          ...         ...   \n73990  ...            0                      0            0           0   \n73991  ...            0                      0            0           0   \n73992  ...            0                      0            0           0   \n73993  ...            0                      0            0           0   \n73994  ...            0                      0            0           0   \n\n       cakes_for_different_occasions  accepted_credit_cards  kalyan  teahouse  \\\n0                                  0                      0       0         0   \n1                                  0                      0       0         0   \n2                                  0                      0       0         0   \n3                                  0                      0       0         0   \n4                                  0                      0       0         0   \n...                              ...                    ...     ...       ...   \n73990                              0                      0       0         0   \n73991                              0                      0       0         0   \n73992                              0                      0       0         0   \n73993                              0                      0       0         0   \n73994                              0                      0       0         0   \n\n       bread_from_tandoor  handmade_goods  \n0                       0               0  \n1                       0               0  \n2                       0               0  \n3                       0               0  \n4                       0               0  \n...                   ...             ...  \n73990                   0               0  \n73991                   0               0  \n73992                   0               0  \n73993                   0               0  \n73994                   0               0  \n\n[73995 rows x 72 columns]",
      "text/html": "<div>\n<style scoped>\n    .dataframe tbody tr th:only-of-type {\n        vertical-align: middle;\n    }\n\n    .dataframe tbody tr th {\n        vertical-align: top;\n    }\n\n    .dataframe thead th {\n        text-align: right;\n    }\n</style>\n<table border=\"1\" class=\"dataframe\">\n  <thead>\n    <tr style=\"text-align: right;\">\n      <th></th>\n      <th>user_id</th>\n      <th>org_id</th>\n      <th>rating</th>\n      <th>ts</th>\n      <th>user_city</th>\n      <th>org_city</th>\n      <th>average_bill</th>\n      <th>rating_org</th>\n      <th>rubrics</th>\n      <th>food_delivery</th>\n      <th>...</th>\n      <th>call_button</th>\n      <th>wheelchair_accessible</th>\n      <th>table_games</th>\n      <th>vinotheque</th>\n      <th>cakes_for_different_occasions</th>\n      <th>accepted_credit_cards</th>\n      <th>kalyan</th>\n      <th>teahouse</th>\n      <th>bread_from_tandoor</th>\n      <th>handmade_goods</th>\n    </tr>\n  </thead>\n  <tbody>\n    <tr>\n      <th>0</th>\n      <td>12182789761588196310</td>\n      <td>11946401375069641937</td>\n      <td>4.0</td>\n      <td>677</td>\n      <td>msk</td>\n      <td>msk</td>\n      <td>1500.0</td>\n      <td>3.883212</td>\n      <td>Ресторан</td>\n      <td>1</td>\n      <td>...</td>\n      <td>0</td>\n      <td>0</td>\n      <td>0</td>\n      <td>0</td>\n      <td>0</td>\n      <td>0</td>\n      <td>0</td>\n      <td>0</td>\n      <td>0</td>\n      <td>0</td>\n    </tr>\n    <tr>\n      <th>1</th>\n      <td>2796544982129273287</td>\n      <td>5545859981678495568</td>\n      <td>5.0</td>\n      <td>577</td>\n      <td>msk</td>\n      <td>msk</td>\n      <td>1000.0</td>\n      <td>4.495379</td>\n      <td>Ресторан</td>\n      <td>1</td>\n      <td>...</td>\n      <td>0</td>\n      <td>0</td>\n      <td>0</td>\n      <td>0</td>\n      <td>0</td>\n      <td>0</td>\n      <td>0</td>\n      <td>0</td>\n      <td>0</td>\n      <td>0</td>\n    </tr>\n    <tr>\n      <th>2</th>\n      <td>10546824832088319728</td>\n      <td>3451485117888180206</td>\n      <td>4.0</td>\n      <td>716</td>\n      <td>msk</td>\n      <td>msk</td>\n      <td>500.0</td>\n      <td>4.576063</td>\n      <td>Кафе</td>\n      <td>1</td>\n      <td>...</td>\n      <td>0</td>\n      <td>0</td>\n      <td>0</td>\n      <td>0</td>\n      <td>0</td>\n      <td>0</td>\n      <td>0</td>\n      <td>0</td>\n      <td>0</td>\n      <td>0</td>\n    </tr>\n    <tr>\n      <th>3</th>\n      <td>9967742981458207920</td>\n      <td>9490041040735762889</td>\n      <td>3.0</td>\n      <td>639</td>\n      <td>spb</td>\n      <td>spb</td>\n      <td>1000.0</td>\n      <td>3.775701</td>\n      <td>Кафе</td>\n      <td>1</td>\n      <td>...</td>\n      <td>0</td>\n      <td>0</td>\n      <td>0</td>\n      <td>0</td>\n      <td>0</td>\n      <td>0</td>\n      <td>0</td>\n      <td>0</td>\n      <td>0</td>\n      <td>0</td>\n    </tr>\n    <tr>\n      <th>4</th>\n      <td>11046819495825038093</td>\n      <td>5234254278902729372</td>\n      <td>5.0</td>\n      <td>669</td>\n      <td>msk</td>\n      <td>msk</td>\n      <td>500.0</td>\n      <td>4.187500</td>\n      <td>Пиццерия</td>\n      <td>1</td>\n      <td>...</td>\n      <td>0</td>\n      <td>1</td>\n      <td>0</td>\n      <td>0</td>\n      <td>0</td>\n      <td>0</td>\n      <td>0</td>\n      <td>0</td>\n      <td>0</td>\n      <td>0</td>\n    </tr>\n    <tr>\n      <th>...</th>\n      <td>...</td>\n      <td>...</td>\n      <td>...</td>\n      <td>...</td>\n      <td>...</td>\n      <td>...</td>\n      <td>...</td>\n      <td>...</td>\n      <td>...</td>\n      <td>...</td>\n      <td>...</td>\n      <td>...</td>\n      <td>...</td>\n      <td>...</td>\n      <td>...</td>\n      <td>...</td>\n      <td>...</td>\n      <td>...</td>\n      <td>...</td>\n      <td>...</td>\n      <td>...</td>\n    </tr>\n    <tr>\n      <th>73990</th>\n      <td>12526944272743210441</td>\n      <td>2948132663120061820</td>\n      <td>2.0</td>\n      <td>517</td>\n      <td>msk</td>\n      <td>msk</td>\n      <td>500.0</td>\n      <td>4.280632</td>\n      <td>Булочная, пекарня</td>\n      <td>1</td>\n      <td>...</td>\n      <td>0</td>\n      <td>0</td>\n      <td>0</td>\n      <td>0</td>\n      <td>0</td>\n      <td>0</td>\n      <td>0</td>\n      <td>0</td>\n      <td>0</td>\n      <td>0</td>\n    </tr>\n    <tr>\n      <th>73991</th>\n      <td>17792383534781948527</td>\n      <td>13225228120465186798</td>\n      <td>5.0</td>\n      <td>455</td>\n      <td>msk</td>\n      <td>msk</td>\n      <td>NaN</td>\n      <td>4.446033</td>\n      <td>Ресторан</td>\n      <td>0</td>\n      <td>...</td>\n      <td>0</td>\n      <td>0</td>\n      <td>0</td>\n      <td>0</td>\n      <td>0</td>\n      <td>0</td>\n      <td>0</td>\n      <td>0</td>\n      <td>0</td>\n      <td>0</td>\n    </tr>\n    <tr>\n      <th>73992</th>\n      <td>7452326377200652192</td>\n      <td>1135274990644701922</td>\n      <td>5.0</td>\n      <td>1032</td>\n      <td>msk</td>\n      <td>msk</td>\n      <td>1000.0</td>\n      <td>4.420231</td>\n      <td>Бар, паб</td>\n      <td>1</td>\n      <td>...</td>\n      <td>0</td>\n      <td>0</td>\n      <td>0</td>\n      <td>0</td>\n      <td>0</td>\n      <td>0</td>\n      <td>0</td>\n      <td>0</td>\n      <td>0</td>\n      <td>0</td>\n    </tr>\n    <tr>\n      <th>73993</th>\n      <td>368322320223775667</td>\n      <td>2498968754330575170</td>\n      <td>5.0</td>\n      <td>27</td>\n      <td>msk</td>\n      <td>msk</td>\n      <td>NaN</td>\n      <td>4.694307</td>\n      <td>Кафе</td>\n      <td>0</td>\n      <td>...</td>\n      <td>0</td>\n      <td>0</td>\n      <td>0</td>\n      <td>0</td>\n      <td>0</td>\n      <td>0</td>\n      <td>0</td>\n      <td>0</td>\n      <td>0</td>\n      <td>0</td>\n    </tr>\n    <tr>\n      <th>73994</th>\n      <td>12448748541229077418</td>\n      <td>10310753822165626445</td>\n      <td>5.0</td>\n      <td>699</td>\n      <td>spb</td>\n      <td>spb</td>\n      <td>NaN</td>\n      <td>4.485873</td>\n      <td>Кафе</td>\n      <td>0</td>\n      <td>...</td>\n      <td>0</td>\n      <td>0</td>\n      <td>0</td>\n      <td>0</td>\n      <td>0</td>\n      <td>0</td>\n      <td>0</td>\n      <td>0</td>\n      <td>0</td>\n      <td>0</td>\n    </tr>\n  </tbody>\n</table>\n<p>73995 rows × 72 columns</p>\n</div>"
     },
     "execution_count": 82,
     "metadata": {},
     "output_type": "execute_result"
    }
   ],
   "source": [
    "df_train_all = pd.read_csv('data\\\\train.csv')\n",
    "\n",
    "df_train_all"
   ],
   "metadata": {
    "collapsed": false,
    "pycharm": {
     "name": "#%%\n"
    }
   }
  },
  {
   "cell_type": "code",
   "execution_count": 3,
   "outputs": [],
   "source": [
    "from sklearn.preprocessing import minmax_scale\n",
    "\n",
    "\n",
    "def dropUnusableColumns(curr_df):\n",
    "    place_type_list = curr_df[\"rubrics\"].unique()\n",
    "    place_type_dict = {k: v for v, k in enumerate(place_type_list)}\n",
    "\n",
    "    out_def_df_numb = curr_df.select_dtypes(exclude=['object'])\n",
    "    out_def_df_obj = curr_df.select_dtypes(include=['object'])\n",
    "    out_def_df_numb[\"average_bill\"] = out_def_df_numb[\"average_bill\"].fillna(out_def_df_numb[\"average_bill\"].mean())\n",
    "    out_def_df_numb[\"org_id\"] = minmax_scale(out_def_df_numb[\"org_id\"], feature_range=(0, len(out_def_df_numb[\"org_id\"].unique())))\n",
    "\n",
    "    fsci = out_def_df_numb.columns.get_loc(\"food_delivery\")\n",
    "    print(fsci)\n",
    "    out_def_df_numb[\"sum_info\"] = out_def_df_numb.values[:, fsci:].sum(axis=1)\n",
    "    print(place_type_dict)\n",
    "    out_def_df_numb[\"rubrics_id\"] = out_def_df_obj[\"rubrics\"].apply(lambda x: place_type_dict[str(x)])\n",
    "\n",
    "    return_columns = ['rating', 'average_bill', \"wi_fi\", \"rubrics_id\"]\n",
    "\n",
    "    return pd.DataFrame.from_records(out_def_df_numb, columns=return_columns)"
   ],
   "metadata": {
    "collapsed": false,
    "pycharm": {
     "name": "#%%\n"
    }
   }
  },
  {
   "cell_type": "code",
   "execution_count": 4,
   "outputs": [
    {
     "ename": "NameError",
     "evalue": "name 'df_train_all' is not defined",
     "output_type": "error",
     "traceback": [
      "\u001B[1;31m---------------------------------------------------------------------------\u001B[0m",
      "\u001B[1;31mNameError\u001B[0m                                 Traceback (most recent call last)",
      "Input \u001B[1;32mIn [4]\u001B[0m, in \u001B[0;36m<module>\u001B[1;34m\u001B[0m\n\u001B[1;32m----> 1\u001B[0m df_test_result \u001B[38;5;241m=\u001B[39m \u001B[43mdf_train_all\u001B[49m\u001B[38;5;241m.\u001B[39mrating_org\n\u001B[0;32m      2\u001B[0m df_test_columns \u001B[38;5;241m=\u001B[39m dropUnusableColumns(df_train_all\u001B[38;5;241m.\u001B[39mdrop(\u001B[38;5;124m'\u001B[39m\u001B[38;5;124mrating_org\u001B[39m\u001B[38;5;124m'\u001B[39m, axis\u001B[38;5;241m=\u001B[39m\u001B[38;5;241m1\u001B[39m))\n\u001B[0;32m      3\u001B[0m df_test_columns\n",
      "\u001B[1;31mNameError\u001B[0m: name 'df_train_all' is not defined"
     ]
    }
   ],
   "source": [
    "df_test_result = df_train_all.rating_org\n",
    "df_test_columns = dropUnusableColumns(df_train_all.drop('rating_org', axis=1))\n",
    "df_test_columns"
   ],
   "metadata": {
    "collapsed": false,
    "pycharm": {
     "name": "#%%\n"
    }
   }
  },
  {
   "cell_type": "code",
   "execution_count": 85,
   "outputs": [
    {
     "data": {
      "text/plain": "9104453017196776235     1215\n12046097390037935713    1037\n5700798010712829946      559\n15250345250621165867     381\n5710441047385192800      367\n                        ... \n8340212389249754739        1\n8839953744178961759        1\n8433723132540377009        1\n3248584672850281365        1\n5391639104056941065        1\nName: org_id, Length: 18405, dtype: int64"
     },
     "execution_count": 85,
     "metadata": {},
     "output_type": "execute_result"
    }
   ],
   "source": [
    "df_train_all.drop('rating_org', axis=1).org_id.value_counts()"
   ],
   "metadata": {
    "collapsed": false,
    "pycharm": {
     "name": "#%%\n"
    }
   }
  },
  {
   "cell_type": "code",
   "execution_count": 86,
   "outputs": [
    {
     "data": {
      "text/plain": "       rating  average_bill  wi_fi  rubrics_id\n0         4.0   1500.000000      1           0\n1         5.0   1000.000000      1           0\n2         4.0    500.000000      1           1\n3         3.0   1000.000000      1           1\n4         5.0    500.000000      1           2\n...       ...           ...    ...         ...\n73990     2.0    500.000000      1           7\n73991     5.0   1075.891973      1           0\n73992     5.0   1000.000000      1           4\n73993     5.0   1075.891973      0           1\n73994     5.0   1075.891973      0           1\n\n[73995 rows x 4 columns]",
      "text/html": "<div>\n<style scoped>\n    .dataframe tbody tr th:only-of-type {\n        vertical-align: middle;\n    }\n\n    .dataframe tbody tr th {\n        vertical-align: top;\n    }\n\n    .dataframe thead th {\n        text-align: right;\n    }\n</style>\n<table border=\"1\" class=\"dataframe\">\n  <thead>\n    <tr style=\"text-align: right;\">\n      <th></th>\n      <th>rating</th>\n      <th>average_bill</th>\n      <th>wi_fi</th>\n      <th>rubrics_id</th>\n    </tr>\n  </thead>\n  <tbody>\n    <tr>\n      <th>0</th>\n      <td>4.0</td>\n      <td>1500.000000</td>\n      <td>1</td>\n      <td>0</td>\n    </tr>\n    <tr>\n      <th>1</th>\n      <td>5.0</td>\n      <td>1000.000000</td>\n      <td>1</td>\n      <td>0</td>\n    </tr>\n    <tr>\n      <th>2</th>\n      <td>4.0</td>\n      <td>500.000000</td>\n      <td>1</td>\n      <td>1</td>\n    </tr>\n    <tr>\n      <th>3</th>\n      <td>3.0</td>\n      <td>1000.000000</td>\n      <td>1</td>\n      <td>1</td>\n    </tr>\n    <tr>\n      <th>4</th>\n      <td>5.0</td>\n      <td>500.000000</td>\n      <td>1</td>\n      <td>2</td>\n    </tr>\n    <tr>\n      <th>...</th>\n      <td>...</td>\n      <td>...</td>\n      <td>...</td>\n      <td>...</td>\n    </tr>\n    <tr>\n      <th>73990</th>\n      <td>2.0</td>\n      <td>500.000000</td>\n      <td>1</td>\n      <td>7</td>\n    </tr>\n    <tr>\n      <th>73991</th>\n      <td>5.0</td>\n      <td>1075.891973</td>\n      <td>1</td>\n      <td>0</td>\n    </tr>\n    <tr>\n      <th>73992</th>\n      <td>5.0</td>\n      <td>1000.000000</td>\n      <td>1</td>\n      <td>4</td>\n    </tr>\n    <tr>\n      <th>73993</th>\n      <td>5.0</td>\n      <td>1075.891973</td>\n      <td>0</td>\n      <td>1</td>\n    </tr>\n    <tr>\n      <th>73994</th>\n      <td>5.0</td>\n      <td>1075.891973</td>\n      <td>0</td>\n      <td>1</td>\n    </tr>\n  </tbody>\n</table>\n<p>73995 rows × 4 columns</p>\n</div>"
     },
     "execution_count": 86,
     "metadata": {},
     "output_type": "execute_result"
    }
   ],
   "source": [
    "from sklearn.neighbors import KNeighborsRegressor\n",
    "\n",
    "knn = KNeighborsRegressor(n_neighbors=20)\n",
    "knn.fit(df_test_columns, df_test_result)\n",
    "df_test_columns"
   ],
   "metadata": {
    "collapsed": false,
    "pycharm": {
     "name": "#%%\n"
    }
   }
  },
  {
   "cell_type": "code",
   "execution_count": 87,
   "outputs": [
    {
     "name": "stdout",
     "output_type": "stream",
     "text": [
      "5\n",
      "{'Ресторан': 0, 'Кафе': 1, 'Кофейня': 2, 'Кондитерская': 3, 'Быстрое питание': 4, 'Бар, паб': 5, 'Кальян-бар': 6, 'Булочная, пекарня': 7, 'Спортбар': 8, 'Столовая': 9, 'Пиццерия': 10, 'Суши-бар': 11, 'Кофе с собой': 12, 'Бар безалкогольных напитков': 13}\n"
     ]
    }
   ],
   "source": [
    "lab3_res_array = knn.predict(dropUnusableColumns(df_test))\n",
    "lab3_res_df = pd.DataFrame(lab3_res_array, columns=['rating_org'])\n",
    "lab3_res_df.index.names = [\"id\"]\n",
    "lab3_res_df.to_csv(\"res/res_.csv\")"
   ],
   "metadata": {
    "collapsed": false,
    "pycharm": {
     "name": "#%%\n"
    }
   }
  },
  {
   "cell_type": "markdown",
   "source": [
    "70% test"
   ],
   "metadata": {
    "collapsed": false
   }
  },
  {
   "cell_type": "code",
   "execution_count": 88,
   "outputs": [
    {
     "name": "stdout",
     "output_type": "stream",
     "text": [
      "51796\n",
      "5\n",
      "{'Ресторан': 0, 'Кафе': 1, 'Пиццерия': 2, 'Быстрое питание': 3, 'Бар, паб': 4, 'Кофейня': 5, 'Кофе с собой': 6, 'Булочная, пекарня': 7, 'Кондитерская': 8, 'Суши-бар': 9, 'Кальян-бар': 10, 'Спортбар': 11, 'Столовая': 12, 'Бар безалкогольных напитков': 13}\n",
      "5\n",
      "{'Кафе': 0, 'Ресторан': 1, 'Быстрое питание': 2, 'Булочная, пекарня': 3, 'Спортбар': 4, 'Бар, паб': 5, 'Пиццерия': 6, 'Кондитерская': 7, 'Кофейня': 8, 'Суши-бар': 9, 'Столовая': 10, 'Кальян-бар': 11, 'Бар безалкогольных напитков': 12, 'Кофе с собой': 13}\n"
     ]
    },
    {
     "data": {
      "text/plain": "0.05512858419522768"
     },
     "execution_count": 88,
     "metadata": {},
     "output_type": "execute_result"
    }
   ],
   "source": [
    "\n",
    "from sklearn.metrics import mean_absolute_percentage_error\n",
    "\n",
    "PROC_VALUE = 0.7\n",
    "PROC_NUMBER = int(len(df_train_all) * PROC_VALUE)\n",
    "print(PROC_NUMBER)\n",
    "df_test_train_cut = df_train_all.rating_org[:PROC_NUMBER]\n",
    "df_test_columns_cut = dropUnusableColumns(df_train_all.drop('rating_org', axis=1))[:PROC_NUMBER]\n",
    "\n",
    "knn_small = KNeighborsRegressor()\n",
    "knn_small.fit(df_test_columns_cut, df_test_train_cut)\n",
    "knn_result_cut_fit = knn_small.predict(dropUnusableColumns(df_train_all[PROC_NUMBER:].drop('rating_org', axis=1)))\n",
    "knn_result_cut_real = df_train_all[PROC_NUMBER:].rating_org\n",
    "\n",
    "mean_absolute_percentage_error(knn_result_cut_real, knn_result_cut_fit)"
   ],
   "metadata": {
    "collapsed": false,
    "pycharm": {
     "name": "#%%\n"
    }
   }
  },
  {
   "cell_type": "code",
   "execution_count": 88,
   "outputs": [],
   "source": [],
   "metadata": {
    "collapsed": false,
    "pycharm": {
     "name": "#%%\n"
    }
   }
  }
 ],
 "metadata": {
  "kernelspec": {
   "display_name": "Python 3",
   "language": "python",
   "name": "python3"
  },
  "language_info": {
   "codemirror_mode": {
    "name": "ipython",
    "version": 2
   },
   "file_extension": ".py",
   "mimetype": "text/x-python",
   "name": "python",
   "nbconvert_exporter": "python",
   "pygments_lexer": "ipython2",
   "version": "2.7.6"
  }
 },
 "nbformat": 4,
 "nbformat_minor": 0
}