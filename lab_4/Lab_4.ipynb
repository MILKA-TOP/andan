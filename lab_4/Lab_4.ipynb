{
 "cells": [
  {
   "cell_type": "code",
   "execution_count": 2,
   "metadata": {
    "collapsed": true
   },
   "outputs": [],
   "source": [
    "import math\n",
    "\n",
    "import pandas as pd\n",
    "import matplotlib.pyplot as plt\n",
    "import numpy as np\n",
    "import statsmodels.api as sm"
   ]
  },
  {
   "cell_type": "markdown",
   "source": [
    "Вам предлагается предсказать цену квадратного метра недвижимости, используя датасет оценок стоимости квартир\n",
    "\n",
    "Цель этого курса - всё ещё научить анализировать данные, а не строить ML модели. Поэтому в этой лабораторной мы предлагаем построить новые полезные для предсказания признаки, удалить бесполезные, обработать сырые и может даже поискать дополнительные признаки в интернете\n",
    "\n",
    "Также разрешается использовать только алгоритм LinearRegression из python пакета sklearn. Использовать другие модели при решении нельзя. Разрешается и рекомендуется придумывать дополнительные признаки для датасета, использовать признаки из сторонних источников и находить наилучшие гиперпараметры алгоритма\n",
    "\n",
    "Примером признака из сторонних источников могут быть api карт. Сторонние источники вроде сервисов оценки недвижимости использовать нельзя. Преподаватель имеет право забанить такого рода признаки и решение с ними\n",
    "\n",
    "Баллы ставятся на момент публикации private leaderbord'а, это происходит на следующий день после конца соревнования. Баллы ставятся только в случае, если код решения сдан преподавателю практики\n",
    "\n",
    "Все студенты получают одинаковое количество баллов за лабораторную, кроме первых и последних трёх.\n",
    "Первые три места получают +30, 20 и 10 процентов баллов соответственно\n",
    "Последние три места получают -50, 60, 70 процентов баллов соответственно"
   ],
   "metadata": {
    "collapsed": false
   }
  },
  {
   "cell_type": "code",
   "execution_count": 3,
   "outputs": [],
   "source": [
    "#sample_submission_df = pd.read_csv('data\\\\sample_submission.csv')\n",
    "\n",
    "#sample_submission_df"
   ],
   "metadata": {
    "collapsed": false,
    "pycharm": {
     "name": "#%%\n"
    }
   }
  },
  {
   "cell_type": "code",
   "execution_count": 4,
   "outputs": [
    {
     "data": {
      "text/plain": "                                            city  floor          id  \\\n0                                         Москва    1.0  COL_164098   \n1                                    Октябрьский    NaN   COL_70629   \n2                                          Пермь    1.0  COL_132045   \n3                                       Балашиха    1.0   COL_16510   \n4      Одинцовский городской округ, с. Аксиньино    3.0  COL_141915   \n...                                          ...    ...         ...   \n68820                                   Кемерово    NaN  COL_278008   \n68821                                     Тюмень    NaN  COL_205933   \n68822                                        Уфа    7.0  COL_157101   \n68823                                     Москва    1.0  COL_130653   \n68824                                     Тюмень    NaN  COL_119470   \n\n             lat        lng  osm_amenity_points_in_0.001  \\\n0      55.700000  37.752365                            5   \n1      54.489840  53.490696                            0   \n2      57.969273  56.152996                            1   \n3      55.785270  37.853317                            0   \n4      55.738186  36.981342                            2   \n...          ...        ...                          ...   \n68820  55.518540  86.096436                            1   \n68821  57.153940  65.492440                            0   \n68822  54.729095  55.939934                            6   \n68823  55.739864  37.849950                            0   \n68824  57.133690  65.561400                            5   \n\n       osm_amenity_points_in_0.005  osm_amenity_points_in_0.0075  \\\n0                               21                            51   \n1                                1                             7   \n2                               21                            37   \n3                                5                            39   \n4                                8                             8   \n...                            ...                           ...   \n68820                           17                            18   \n68821                            4                            30   \n68822                           70                           128   \n68823                           47                           100   \n68824                           23                            40   \n\n       osm_amenity_points_in_0.01  osm_building_points_in_0.001  ...  \\\n0                              89                             0  ...   \n1                              21                             0  ...   \n2                              50                             0  ...   \n3                              49                             0  ...   \n4                               9                             0  ...   \n...                           ...                           ...  ...   \n68820                          19                             0  ...   \n68821                          44                             0  ...   \n68822                         209                             0  ...   \n68823                         170                             0  ...   \n68824                          90                             0  ...   \n\n       reform_house_population_500  reform_mean_floor_count_1000  \\\n0                           1048.0                      8.510989   \n1                            136.0                      4.937500   \n2                            395.0                      7.118644   \n3                              NaN                           NaN   \n4                              NaN                           NaN   \n...                            ...                           ...   \n68820                        578.0                      4.816667   \n68821                        594.0                      6.456522   \n68822                        780.0                      5.151316   \n68823                       1647.0                     13.416667   \n68824                        218.0                      7.000000   \n\n       reform_mean_floor_count_500  reform_mean_year_building_1000  \\\n0                         8.791667                     1970.950549   \n1                         3.173913                     1973.046875   \n2                        11.071429                     1973.639344   \n3                              NaN                             NaN   \n4                              NaN                             NaN   \n...                            ...                             ...   \n68820                     5.344828                     1979.196721   \n68821                     6.130435                     1978.985507   \n68822                     4.890625                     1951.220779   \n68823                    14.125000                     1994.722222   \n68824                    11.142857                     1978.941176   \n\n       reform_mean_year_building_500               region  total_square  \\\n0                        1971.250000               Москва        4863.0   \n1                        1965.565217         Башкортостан          26.0   \n2                        1980.400000        Пермский край         242.0   \n3                                NaN   Московская область          91.9   \n4                                NaN   Московская область        1500.0   \n...                              ...                  ...           ...   \n68820                    1983.137931  Кемеровская область         237.7   \n68821                    1977.956522    Тюменская область          74.0   \n68822                    1946.303030         Башкортостан          25.0   \n68823                    1994.175000               Москва          22.4   \n68824                    1988.000000    Тюменская область          61.6   \n\n       street        date  realty_type  \n0       S5484  2020-05-24          100  \n1      S12273  2020-02-23          100  \n2      S34019  2020-04-26          100  \n3      S21668  2020-01-19           10  \n4       S2158  2020-05-03          110  \n...       ...         ...          ...  \n68820  S25064  2020-08-23           10  \n68821  S25354  2020-06-28           10  \n68822   S6517  2020-05-24          100  \n68823  S25226  2020-04-19          100  \n68824   S1842  2020-04-12          110  \n\n[68825 rows x 75 columns]",
      "text/html": "<div>\n<style scoped>\n    .dataframe tbody tr th:only-of-type {\n        vertical-align: middle;\n    }\n\n    .dataframe tbody tr th {\n        vertical-align: top;\n    }\n\n    .dataframe thead th {\n        text-align: right;\n    }\n</style>\n<table border=\"1\" class=\"dataframe\">\n  <thead>\n    <tr style=\"text-align: right;\">\n      <th></th>\n      <th>city</th>\n      <th>floor</th>\n      <th>id</th>\n      <th>lat</th>\n      <th>lng</th>\n      <th>osm_amenity_points_in_0.001</th>\n      <th>osm_amenity_points_in_0.005</th>\n      <th>osm_amenity_points_in_0.0075</th>\n      <th>osm_amenity_points_in_0.01</th>\n      <th>osm_building_points_in_0.001</th>\n      <th>...</th>\n      <th>reform_house_population_500</th>\n      <th>reform_mean_floor_count_1000</th>\n      <th>reform_mean_floor_count_500</th>\n      <th>reform_mean_year_building_1000</th>\n      <th>reform_mean_year_building_500</th>\n      <th>region</th>\n      <th>total_square</th>\n      <th>street</th>\n      <th>date</th>\n      <th>realty_type</th>\n    </tr>\n  </thead>\n  <tbody>\n    <tr>\n      <th>0</th>\n      <td>Москва</td>\n      <td>1.0</td>\n      <td>COL_164098</td>\n      <td>55.700000</td>\n      <td>37.752365</td>\n      <td>5</td>\n      <td>21</td>\n      <td>51</td>\n      <td>89</td>\n      <td>0</td>\n      <td>...</td>\n      <td>1048.0</td>\n      <td>8.510989</td>\n      <td>8.791667</td>\n      <td>1970.950549</td>\n      <td>1971.250000</td>\n      <td>Москва</td>\n      <td>4863.0</td>\n      <td>S5484</td>\n      <td>2020-05-24</td>\n      <td>100</td>\n    </tr>\n    <tr>\n      <th>1</th>\n      <td>Октябрьский</td>\n      <td>NaN</td>\n      <td>COL_70629</td>\n      <td>54.489840</td>\n      <td>53.490696</td>\n      <td>0</td>\n      <td>1</td>\n      <td>7</td>\n      <td>21</td>\n      <td>0</td>\n      <td>...</td>\n      <td>136.0</td>\n      <td>4.937500</td>\n      <td>3.173913</td>\n      <td>1973.046875</td>\n      <td>1965.565217</td>\n      <td>Башкортостан</td>\n      <td>26.0</td>\n      <td>S12273</td>\n      <td>2020-02-23</td>\n      <td>100</td>\n    </tr>\n    <tr>\n      <th>2</th>\n      <td>Пермь</td>\n      <td>1.0</td>\n      <td>COL_132045</td>\n      <td>57.969273</td>\n      <td>56.152996</td>\n      <td>1</td>\n      <td>21</td>\n      <td>37</td>\n      <td>50</td>\n      <td>0</td>\n      <td>...</td>\n      <td>395.0</td>\n      <td>7.118644</td>\n      <td>11.071429</td>\n      <td>1973.639344</td>\n      <td>1980.400000</td>\n      <td>Пермский край</td>\n      <td>242.0</td>\n      <td>S34019</td>\n      <td>2020-04-26</td>\n      <td>100</td>\n    </tr>\n    <tr>\n      <th>3</th>\n      <td>Балашиха</td>\n      <td>1.0</td>\n      <td>COL_16510</td>\n      <td>55.785270</td>\n      <td>37.853317</td>\n      <td>0</td>\n      <td>5</td>\n      <td>39</td>\n      <td>49</td>\n      <td>0</td>\n      <td>...</td>\n      <td>NaN</td>\n      <td>NaN</td>\n      <td>NaN</td>\n      <td>NaN</td>\n      <td>NaN</td>\n      <td>Московская область</td>\n      <td>91.9</td>\n      <td>S21668</td>\n      <td>2020-01-19</td>\n      <td>10</td>\n    </tr>\n    <tr>\n      <th>4</th>\n      <td>Одинцовский городской округ, с. Аксиньино</td>\n      <td>3.0</td>\n      <td>COL_141915</td>\n      <td>55.738186</td>\n      <td>36.981342</td>\n      <td>2</td>\n      <td>8</td>\n      <td>8</td>\n      <td>9</td>\n      <td>0</td>\n      <td>...</td>\n      <td>NaN</td>\n      <td>NaN</td>\n      <td>NaN</td>\n      <td>NaN</td>\n      <td>NaN</td>\n      <td>Московская область</td>\n      <td>1500.0</td>\n      <td>S2158</td>\n      <td>2020-05-03</td>\n      <td>110</td>\n    </tr>\n    <tr>\n      <th>...</th>\n      <td>...</td>\n      <td>...</td>\n      <td>...</td>\n      <td>...</td>\n      <td>...</td>\n      <td>...</td>\n      <td>...</td>\n      <td>...</td>\n      <td>...</td>\n      <td>...</td>\n      <td>...</td>\n      <td>...</td>\n      <td>...</td>\n      <td>...</td>\n      <td>...</td>\n      <td>...</td>\n      <td>...</td>\n      <td>...</td>\n      <td>...</td>\n      <td>...</td>\n      <td>...</td>\n    </tr>\n    <tr>\n      <th>68820</th>\n      <td>Кемерово</td>\n      <td>NaN</td>\n      <td>COL_278008</td>\n      <td>55.518540</td>\n      <td>86.096436</td>\n      <td>1</td>\n      <td>17</td>\n      <td>18</td>\n      <td>19</td>\n      <td>0</td>\n      <td>...</td>\n      <td>578.0</td>\n      <td>4.816667</td>\n      <td>5.344828</td>\n      <td>1979.196721</td>\n      <td>1983.137931</td>\n      <td>Кемеровская область</td>\n      <td>237.7</td>\n      <td>S25064</td>\n      <td>2020-08-23</td>\n      <td>10</td>\n    </tr>\n    <tr>\n      <th>68821</th>\n      <td>Тюмень</td>\n      <td>NaN</td>\n      <td>COL_205933</td>\n      <td>57.153940</td>\n      <td>65.492440</td>\n      <td>0</td>\n      <td>4</td>\n      <td>30</td>\n      <td>44</td>\n      <td>0</td>\n      <td>...</td>\n      <td>594.0</td>\n      <td>6.456522</td>\n      <td>6.130435</td>\n      <td>1978.985507</td>\n      <td>1977.956522</td>\n      <td>Тюменская область</td>\n      <td>74.0</td>\n      <td>S25354</td>\n      <td>2020-06-28</td>\n      <td>10</td>\n    </tr>\n    <tr>\n      <th>68822</th>\n      <td>Уфа</td>\n      <td>7.0</td>\n      <td>COL_157101</td>\n      <td>54.729095</td>\n      <td>55.939934</td>\n      <td>6</td>\n      <td>70</td>\n      <td>128</td>\n      <td>209</td>\n      <td>0</td>\n      <td>...</td>\n      <td>780.0</td>\n      <td>5.151316</td>\n      <td>4.890625</td>\n      <td>1951.220779</td>\n      <td>1946.303030</td>\n      <td>Башкортостан</td>\n      <td>25.0</td>\n      <td>S6517</td>\n      <td>2020-05-24</td>\n      <td>100</td>\n    </tr>\n    <tr>\n      <th>68823</th>\n      <td>Москва</td>\n      <td>1.0</td>\n      <td>COL_130653</td>\n      <td>55.739864</td>\n      <td>37.849950</td>\n      <td>0</td>\n      <td>47</td>\n      <td>100</td>\n      <td>170</td>\n      <td>0</td>\n      <td>...</td>\n      <td>1647.0</td>\n      <td>13.416667</td>\n      <td>14.125000</td>\n      <td>1994.722222</td>\n      <td>1994.175000</td>\n      <td>Москва</td>\n      <td>22.4</td>\n      <td>S25226</td>\n      <td>2020-04-19</td>\n      <td>100</td>\n    </tr>\n    <tr>\n      <th>68824</th>\n      <td>Тюмень</td>\n      <td>NaN</td>\n      <td>COL_119470</td>\n      <td>57.133690</td>\n      <td>65.561400</td>\n      <td>5</td>\n      <td>23</td>\n      <td>40</td>\n      <td>90</td>\n      <td>0</td>\n      <td>...</td>\n      <td>218.0</td>\n      <td>7.000000</td>\n      <td>11.142857</td>\n      <td>1978.941176</td>\n      <td>1988.000000</td>\n      <td>Тюменская область</td>\n      <td>61.6</td>\n      <td>S1842</td>\n      <td>2020-04-12</td>\n      <td>110</td>\n    </tr>\n  </tbody>\n</table>\n<p>68825 rows × 75 columns</p>\n</div>"
     },
     "execution_count": 4,
     "metadata": {},
     "output_type": "execute_result"
    }
   ],
   "source": [
    "df_test = pd.read_csv('data\\\\test_x.csv')\n",
    "\n",
    "df_test"
   ],
   "metadata": {
    "collapsed": false,
    "pycharm": {
     "name": "#%%\n"
    }
   }
  },
  {
   "cell_type": "code",
   "execution_count": 5,
   "outputs": [
    {
     "data": {
      "text/plain": "                   city  floor          id        lat        lng  \\\n0            Ставрополь    NaN   COL_65683  45.011356  41.919273   \n1                  Омск    NaN  COL_159011  54.984833  73.387344   \n2              Белгород    NaN  COL_205850  50.576805  36.563267   \n3         Большой Исток    NaN  COL_229491  56.714413  60.792454   \n4           Новосибирск    1.0   COL_77283  55.055200  82.895810   \n...                 ...    ...         ...        ...        ...   \n206469     Нижний Тагил    1.0  COL_177140  57.911450  59.961727   \n206470      Новосибирск    NaN  COL_102032  55.067345  82.960770   \n206471       Ставрополь    NaN  COL_253873  44.998290  41.921482   \n206472  Санкт-Петербург    5.0  COL_186498  59.855330  30.319840   \n206473     Екатеринбург    NaN  COL_248969  56.836235  60.682053   \n\n        osm_amenity_points_in_0.001  osm_amenity_points_in_0.005  \\\n0                                 7                           71   \n1                                 4                           40   \n2                                 0                            9   \n3                                 0                            0   \n4                                 0                           25   \n...                             ...                          ...   \n206469                            2                           32   \n206470                            1                            6   \n206471                           13                           97   \n206472                            3                           95   \n206473                            2                           67   \n\n        osm_amenity_points_in_0.0075  osm_amenity_points_in_0.01  \\\n0                                144                         225   \n1                                109                         206   \n2                                 22                          44   \n3                                  0                           1   \n4                                 50                         101   \n...                              ...                         ...   \n206469                            56                          89   \n206470                             8                          28   \n206471                           157                         227   \n206472                           274                         429   \n206473                           110                         143   \n\n        osm_building_points_in_0.001  ...  reform_house_population_500  \\\n0                                  0  ...                        969.0   \n1                                  0  ...                        305.0   \n2                                  0  ...                        533.0   \n3                                  0  ...                          NaN   \n4                                  0  ...                       1188.0   \n...                              ...  ...                          ...   \n206469                             0  ...                       1031.0   \n206470                             0  ...                        939.0   \n206471                             0  ...                        649.0   \n206472                             0  ...                       1224.0   \n206473                             0  ...                       1138.0   \n\n        reform_mean_floor_count_1000  reform_mean_floor_count_500  \\\n0                           8.439655                     9.250000   \n1                           4.756410                     4.333333   \n2                           6.435897                     6.400000   \n3                                NaN                          NaN   \n4                           6.830065                     6.672414   \n...                              ...                          ...   \n206469                      5.466667                     5.560000   \n206470                      6.120370                     6.078947   \n206471                      8.894737                     9.214286   \n206472                      6.386792                     8.055556   \n206473                     11.208333                    11.095238   \n\n        reform_mean_year_building_1000  reform_mean_year_building_500  \\\n0                          1990.232759                    1993.500000   \n1                          1960.346154                    1956.291667   \n2                          1980.452991                    1989.633333   \n3                                  NaN                            NaN   \n4                          1974.045752                    1974.637931   \n...                                ...                            ...   \n206469                     1966.519380                    1967.381818   \n206470                     1965.807339                    1964.461538   \n206471                     1997.815789                    1995.928571   \n206472                     1961.481132                    1962.333333   \n206473                     1986.129870                    1986.320000   \n\n                       region  total_square  street        date  realty_type  \n0         Ставропольский край         31.00   S1842  2020-02-23           10  \n1              Омская область        150.00  S14290  2020-05-24           10  \n2        Белгородская область         73.00  S25733  2020-06-28           10  \n3        Свердловская область        438.00   S6985  2020-07-19          110  \n4       Новосибирская область         62.70   S4778  2020-03-01           10  \n...                       ...           ...     ...         ...          ...  \n206469   Свердловская область         41.00  S19208  2020-06-07          100  \n206470  Новосибирская область         98.30   S2332  2020-03-22          110  \n206471    Ставропольский край        921.50   S1743  2020-08-02          100  \n206472        Санкт-Петербург         40.01  S16774  2020-06-14           10  \n206473   Свердловская область         40.20  S25329  2020-08-02          110  \n\n[206474 rows x 76 columns]",
      "text/html": "<div>\n<style scoped>\n    .dataframe tbody tr th:only-of-type {\n        vertical-align: middle;\n    }\n\n    .dataframe tbody tr th {\n        vertical-align: top;\n    }\n\n    .dataframe thead th {\n        text-align: right;\n    }\n</style>\n<table border=\"1\" class=\"dataframe\">\n  <thead>\n    <tr style=\"text-align: right;\">\n      <th></th>\n      <th>city</th>\n      <th>floor</th>\n      <th>id</th>\n      <th>lat</th>\n      <th>lng</th>\n      <th>osm_amenity_points_in_0.001</th>\n      <th>osm_amenity_points_in_0.005</th>\n      <th>osm_amenity_points_in_0.0075</th>\n      <th>osm_amenity_points_in_0.01</th>\n      <th>osm_building_points_in_0.001</th>\n      <th>...</th>\n      <th>reform_house_population_500</th>\n      <th>reform_mean_floor_count_1000</th>\n      <th>reform_mean_floor_count_500</th>\n      <th>reform_mean_year_building_1000</th>\n      <th>reform_mean_year_building_500</th>\n      <th>region</th>\n      <th>total_square</th>\n      <th>street</th>\n      <th>date</th>\n      <th>realty_type</th>\n    </tr>\n  </thead>\n  <tbody>\n    <tr>\n      <th>0</th>\n      <td>Ставрополь</td>\n      <td>NaN</td>\n      <td>COL_65683</td>\n      <td>45.011356</td>\n      <td>41.919273</td>\n      <td>7</td>\n      <td>71</td>\n      <td>144</td>\n      <td>225</td>\n      <td>0</td>\n      <td>...</td>\n      <td>969.0</td>\n      <td>8.439655</td>\n      <td>9.250000</td>\n      <td>1990.232759</td>\n      <td>1993.500000</td>\n      <td>Ставропольский край</td>\n      <td>31.00</td>\n      <td>S1842</td>\n      <td>2020-02-23</td>\n      <td>10</td>\n    </tr>\n    <tr>\n      <th>1</th>\n      <td>Омск</td>\n      <td>NaN</td>\n      <td>COL_159011</td>\n      <td>54.984833</td>\n      <td>73.387344</td>\n      <td>4</td>\n      <td>40</td>\n      <td>109</td>\n      <td>206</td>\n      <td>0</td>\n      <td>...</td>\n      <td>305.0</td>\n      <td>4.756410</td>\n      <td>4.333333</td>\n      <td>1960.346154</td>\n      <td>1956.291667</td>\n      <td>Омская область</td>\n      <td>150.00</td>\n      <td>S14290</td>\n      <td>2020-05-24</td>\n      <td>10</td>\n    </tr>\n    <tr>\n      <th>2</th>\n      <td>Белгород</td>\n      <td>NaN</td>\n      <td>COL_205850</td>\n      <td>50.576805</td>\n      <td>36.563267</td>\n      <td>0</td>\n      <td>9</td>\n      <td>22</td>\n      <td>44</td>\n      <td>0</td>\n      <td>...</td>\n      <td>533.0</td>\n      <td>6.435897</td>\n      <td>6.400000</td>\n      <td>1980.452991</td>\n      <td>1989.633333</td>\n      <td>Белгородская область</td>\n      <td>73.00</td>\n      <td>S25733</td>\n      <td>2020-06-28</td>\n      <td>10</td>\n    </tr>\n    <tr>\n      <th>3</th>\n      <td>Большой Исток</td>\n      <td>NaN</td>\n      <td>COL_229491</td>\n      <td>56.714413</td>\n      <td>60.792454</td>\n      <td>0</td>\n      <td>0</td>\n      <td>0</td>\n      <td>1</td>\n      <td>0</td>\n      <td>...</td>\n      <td>NaN</td>\n      <td>NaN</td>\n      <td>NaN</td>\n      <td>NaN</td>\n      <td>NaN</td>\n      <td>Свердловская область</td>\n      <td>438.00</td>\n      <td>S6985</td>\n      <td>2020-07-19</td>\n      <td>110</td>\n    </tr>\n    <tr>\n      <th>4</th>\n      <td>Новосибирск</td>\n      <td>1.0</td>\n      <td>COL_77283</td>\n      <td>55.055200</td>\n      <td>82.895810</td>\n      <td>0</td>\n      <td>25</td>\n      <td>50</td>\n      <td>101</td>\n      <td>0</td>\n      <td>...</td>\n      <td>1188.0</td>\n      <td>6.830065</td>\n      <td>6.672414</td>\n      <td>1974.045752</td>\n      <td>1974.637931</td>\n      <td>Новосибирская область</td>\n      <td>62.70</td>\n      <td>S4778</td>\n      <td>2020-03-01</td>\n      <td>10</td>\n    </tr>\n    <tr>\n      <th>...</th>\n      <td>...</td>\n      <td>...</td>\n      <td>...</td>\n      <td>...</td>\n      <td>...</td>\n      <td>...</td>\n      <td>...</td>\n      <td>...</td>\n      <td>...</td>\n      <td>...</td>\n      <td>...</td>\n      <td>...</td>\n      <td>...</td>\n      <td>...</td>\n      <td>...</td>\n      <td>...</td>\n      <td>...</td>\n      <td>...</td>\n      <td>...</td>\n      <td>...</td>\n      <td>...</td>\n    </tr>\n    <tr>\n      <th>206469</th>\n      <td>Нижний Тагил</td>\n      <td>1.0</td>\n      <td>COL_177140</td>\n      <td>57.911450</td>\n      <td>59.961727</td>\n      <td>2</td>\n      <td>32</td>\n      <td>56</td>\n      <td>89</td>\n      <td>0</td>\n      <td>...</td>\n      <td>1031.0</td>\n      <td>5.466667</td>\n      <td>5.560000</td>\n      <td>1966.519380</td>\n      <td>1967.381818</td>\n      <td>Свердловская область</td>\n      <td>41.00</td>\n      <td>S19208</td>\n      <td>2020-06-07</td>\n      <td>100</td>\n    </tr>\n    <tr>\n      <th>206470</th>\n      <td>Новосибирск</td>\n      <td>NaN</td>\n      <td>COL_102032</td>\n      <td>55.067345</td>\n      <td>82.960770</td>\n      <td>1</td>\n      <td>6</td>\n      <td>8</td>\n      <td>28</td>\n      <td>0</td>\n      <td>...</td>\n      <td>939.0</td>\n      <td>6.120370</td>\n      <td>6.078947</td>\n      <td>1965.807339</td>\n      <td>1964.461538</td>\n      <td>Новосибирская область</td>\n      <td>98.30</td>\n      <td>S2332</td>\n      <td>2020-03-22</td>\n      <td>110</td>\n    </tr>\n    <tr>\n      <th>206471</th>\n      <td>Ставрополь</td>\n      <td>NaN</td>\n      <td>COL_253873</td>\n      <td>44.998290</td>\n      <td>41.921482</td>\n      <td>13</td>\n      <td>97</td>\n      <td>157</td>\n      <td>227</td>\n      <td>0</td>\n      <td>...</td>\n      <td>649.0</td>\n      <td>8.894737</td>\n      <td>9.214286</td>\n      <td>1997.815789</td>\n      <td>1995.928571</td>\n      <td>Ставропольский край</td>\n      <td>921.50</td>\n      <td>S1743</td>\n      <td>2020-08-02</td>\n      <td>100</td>\n    </tr>\n    <tr>\n      <th>206472</th>\n      <td>Санкт-Петербург</td>\n      <td>5.0</td>\n      <td>COL_186498</td>\n      <td>59.855330</td>\n      <td>30.319840</td>\n      <td>3</td>\n      <td>95</td>\n      <td>274</td>\n      <td>429</td>\n      <td>0</td>\n      <td>...</td>\n      <td>1224.0</td>\n      <td>6.386792</td>\n      <td>8.055556</td>\n      <td>1961.481132</td>\n      <td>1962.333333</td>\n      <td>Санкт-Петербург</td>\n      <td>40.01</td>\n      <td>S16774</td>\n      <td>2020-06-14</td>\n      <td>10</td>\n    </tr>\n    <tr>\n      <th>206473</th>\n      <td>Екатеринбург</td>\n      <td>NaN</td>\n      <td>COL_248969</td>\n      <td>56.836235</td>\n      <td>60.682053</td>\n      <td>2</td>\n      <td>67</td>\n      <td>110</td>\n      <td>143</td>\n      <td>0</td>\n      <td>...</td>\n      <td>1138.0</td>\n      <td>11.208333</td>\n      <td>11.095238</td>\n      <td>1986.129870</td>\n      <td>1986.320000</td>\n      <td>Свердловская область</td>\n      <td>40.20</td>\n      <td>S25329</td>\n      <td>2020-08-02</td>\n      <td>110</td>\n    </tr>\n  </tbody>\n</table>\n<p>206474 rows × 76 columns</p>\n</div>"
     },
     "execution_count": 5,
     "metadata": {},
     "output_type": "execute_result"
    }
   ],
   "source": [
    "df_train_all = pd.read_csv('data\\\\train.csv')\n",
    "\n",
    "df_train_all"
   ],
   "metadata": {
    "collapsed": false,
    "pycharm": {
     "name": "#%%\n"
    }
   }
  },
  {
   "cell_type": "code",
   "execution_count": 6,
   "outputs": [],
   "source": [
    "\n",
    "from math import inf, isnan\n",
    "\n",
    "\n",
    "def dropUnusableColumns(curr_df):\n",
    "    out_def_df_numb = curr_df.select_dtypes(exclude=['object'])\n",
    "\n",
    "    out_def_df_numb['is_negative_floor'] = out_def_df_numb['floor'].apply(lambda x: 1 if (not isnan(x)) and x < 0 else 0)\n",
    "    out_def_df_numb['is_khrushchyovka'] = out_def_df_numb['floor'].apply(lambda x: 1 if (not isnan(x)) and 0 < x < 10 else 0)\n",
    "    out_def_df_numb['is_high_floor'] = out_def_df_numb['floor'].apply(lambda x: 1 if (not isnan(x)) and x > 10 else 0)\n",
    "    out_def_df_numb['is_uknown'] = out_def_df_numb['floor'].apply(lambda x: 1 if isnan(x) else 0)\n",
    "    out_def_df_numb = out_def_df_numb.drop('floor', axis=1)\n",
    "\n",
    "    for i in range(len(out_def_df_numb.columns)):\n",
    "        out_def_df_numb.iloc[:, i]=out_def_df_numb.iloc[:, i].fillna(out_def_df_numb.iloc[:, i].mean())\n",
    "\n",
    "    return out_def_df_numb\n",
    "\n",
    "def resultColumnTransformer(curr_df):\n",
    "    out_def_df_numb = np.log(curr_df)\n",
    "    return out_def_df_numb"
   ],
   "metadata": {
    "collapsed": false,
    "pycharm": {
     "name": "#%%\n"
    }
   }
  },
  {
   "cell_type": "code",
   "execution_count": 7,
   "outputs": [
    {
     "data": {
      "text/plain": "              lat        lng  osm_amenity_points_in_0.001  \\\n0       45.011356  41.919273                            7   \n1       54.984833  73.387344                            4   \n2       50.576805  36.563267                            0   \n3       56.714413  60.792454                            0   \n4       55.055200  82.895810                            0   \n...           ...        ...                          ...   \n206469  57.911450  59.961727                            2   \n206470  55.067345  82.960770                            1   \n206471  44.998290  41.921482                           13   \n206472  59.855330  30.319840                            3   \n206473  56.836235  60.682053                            2   \n\n        osm_amenity_points_in_0.005  osm_amenity_points_in_0.0075  \\\n0                                71                           144   \n1                                40                           109   \n2                                 9                            22   \n3                                 0                             0   \n4                                25                            50   \n...                             ...                           ...   \n206469                           32                            56   \n206470                            6                             8   \n206471                           97                           157   \n206472                           95                           274   \n206473                           67                           110   \n\n        osm_amenity_points_in_0.01  osm_building_points_in_0.001  \\\n0                              225                             0   \n1                              206                             0   \n2                               44                             0   \n3                                1                             0   \n4                              101                             0   \n...                            ...                           ...   \n206469                          89                             0   \n206470                          28                             0   \n206471                         227                             0   \n206472                         429                             0   \n206473                         143                             0   \n\n        osm_building_points_in_0.005  osm_building_points_in_0.0075  \\\n0                                  0                              0   \n1                                  1                              1   \n2                                  1                              1   \n3                                  0                              0   \n4                                  0                              0   \n...                              ...                            ...   \n206469                             0                              0   \n206470                             0                              0   \n206471                             0                              0   \n206472                             2                              4   \n206473                             0                              1   \n\n        osm_building_points_in_0.01  ...  reform_mean_floor_count_1000  \\\n0                                 0  ...                      8.439655   \n1                                 1  ...                      4.756410   \n2                                 4  ...                      6.435897   \n3                                 0  ...                      7.071113   \n4                                 1  ...                      6.830065   \n...                             ...  ...                           ...   \n206469                            0  ...                      5.466667   \n206470                            0  ...                      6.120370   \n206471                            0  ...                      8.894737   \n206472                            4  ...                      6.386792   \n206473                            1  ...                     11.208333   \n\n        reform_mean_floor_count_500  reform_mean_year_building_1000  \\\n0                          9.250000                     1990.232759   \n1                          4.333333                     1960.346154   \n2                          6.400000                     1980.452991   \n3                          7.383622                     1967.588267   \n4                          6.672414                     1974.045752   \n...                             ...                             ...   \n206469                     5.560000                     1966.519380   \n206470                     6.078947                     1965.807339   \n206471                     9.214286                     1997.815789   \n206472                     8.055556                     1961.481132   \n206473                    11.095238                     1986.129870   \n\n        reform_mean_year_building_500  total_square  realty_type  \\\n0                         1993.500000         31.00           10   \n1                         1956.291667        150.00           10   \n2                         1989.633333         73.00           10   \n3                         1968.017046        438.00          110   \n4                         1974.637931         62.70           10   \n...                               ...           ...          ...   \n206469                    1967.381818         41.00          100   \n206470                    1964.461538         98.30          110   \n206471                    1995.928571        921.50          100   \n206472                    1962.333333         40.01           10   \n206473                    1986.320000         40.20          110   \n\n        is_negative_floor  is_khrushchyovka  is_high_floor  is_uknown  \n0                       0                 0              0          1  \n1                       0                 0              0          1  \n2                       0                 0              0          1  \n3                       0                 0              0          1  \n4                       0                 1              0          0  \n...                   ...               ...            ...        ...  \n206469                  0                 1              0          0  \n206470                  0                 0              0          1  \n206471                  0                 0              0          1  \n206472                  0                 1              0          0  \n206473                  0                 0              0          1  \n\n[206474 rows x 72 columns]",
      "text/html": "<div>\n<style scoped>\n    .dataframe tbody tr th:only-of-type {\n        vertical-align: middle;\n    }\n\n    .dataframe tbody tr th {\n        vertical-align: top;\n    }\n\n    .dataframe thead th {\n        text-align: right;\n    }\n</style>\n<table border=\"1\" class=\"dataframe\">\n  <thead>\n    <tr style=\"text-align: right;\">\n      <th></th>\n      <th>lat</th>\n      <th>lng</th>\n      <th>osm_amenity_points_in_0.001</th>\n      <th>osm_amenity_points_in_0.005</th>\n      <th>osm_amenity_points_in_0.0075</th>\n      <th>osm_amenity_points_in_0.01</th>\n      <th>osm_building_points_in_0.001</th>\n      <th>osm_building_points_in_0.005</th>\n      <th>osm_building_points_in_0.0075</th>\n      <th>osm_building_points_in_0.01</th>\n      <th>...</th>\n      <th>reform_mean_floor_count_1000</th>\n      <th>reform_mean_floor_count_500</th>\n      <th>reform_mean_year_building_1000</th>\n      <th>reform_mean_year_building_500</th>\n      <th>total_square</th>\n      <th>realty_type</th>\n      <th>is_negative_floor</th>\n      <th>is_khrushchyovka</th>\n      <th>is_high_floor</th>\n      <th>is_uknown</th>\n    </tr>\n  </thead>\n  <tbody>\n    <tr>\n      <th>0</th>\n      <td>45.011356</td>\n      <td>41.919273</td>\n      <td>7</td>\n      <td>71</td>\n      <td>144</td>\n      <td>225</td>\n      <td>0</td>\n      <td>0</td>\n      <td>0</td>\n      <td>0</td>\n      <td>...</td>\n      <td>8.439655</td>\n      <td>9.250000</td>\n      <td>1990.232759</td>\n      <td>1993.500000</td>\n      <td>31.00</td>\n      <td>10</td>\n      <td>0</td>\n      <td>0</td>\n      <td>0</td>\n      <td>1</td>\n    </tr>\n    <tr>\n      <th>1</th>\n      <td>54.984833</td>\n      <td>73.387344</td>\n      <td>4</td>\n      <td>40</td>\n      <td>109</td>\n      <td>206</td>\n      <td>0</td>\n      <td>1</td>\n      <td>1</td>\n      <td>1</td>\n      <td>...</td>\n      <td>4.756410</td>\n      <td>4.333333</td>\n      <td>1960.346154</td>\n      <td>1956.291667</td>\n      <td>150.00</td>\n      <td>10</td>\n      <td>0</td>\n      <td>0</td>\n      <td>0</td>\n      <td>1</td>\n    </tr>\n    <tr>\n      <th>2</th>\n      <td>50.576805</td>\n      <td>36.563267</td>\n      <td>0</td>\n      <td>9</td>\n      <td>22</td>\n      <td>44</td>\n      <td>0</td>\n      <td>1</td>\n      <td>1</td>\n      <td>4</td>\n      <td>...</td>\n      <td>6.435897</td>\n      <td>6.400000</td>\n      <td>1980.452991</td>\n      <td>1989.633333</td>\n      <td>73.00</td>\n      <td>10</td>\n      <td>0</td>\n      <td>0</td>\n      <td>0</td>\n      <td>1</td>\n    </tr>\n    <tr>\n      <th>3</th>\n      <td>56.714413</td>\n      <td>60.792454</td>\n      <td>0</td>\n      <td>0</td>\n      <td>0</td>\n      <td>1</td>\n      <td>0</td>\n      <td>0</td>\n      <td>0</td>\n      <td>0</td>\n      <td>...</td>\n      <td>7.071113</td>\n      <td>7.383622</td>\n      <td>1967.588267</td>\n      <td>1968.017046</td>\n      <td>438.00</td>\n      <td>110</td>\n      <td>0</td>\n      <td>0</td>\n      <td>0</td>\n      <td>1</td>\n    </tr>\n    <tr>\n      <th>4</th>\n      <td>55.055200</td>\n      <td>82.895810</td>\n      <td>0</td>\n      <td>25</td>\n      <td>50</td>\n      <td>101</td>\n      <td>0</td>\n      <td>0</td>\n      <td>0</td>\n      <td>1</td>\n      <td>...</td>\n      <td>6.830065</td>\n      <td>6.672414</td>\n      <td>1974.045752</td>\n      <td>1974.637931</td>\n      <td>62.70</td>\n      <td>10</td>\n      <td>0</td>\n      <td>1</td>\n      <td>0</td>\n      <td>0</td>\n    </tr>\n    <tr>\n      <th>...</th>\n      <td>...</td>\n      <td>...</td>\n      <td>...</td>\n      <td>...</td>\n      <td>...</td>\n      <td>...</td>\n      <td>...</td>\n      <td>...</td>\n      <td>...</td>\n      <td>...</td>\n      <td>...</td>\n      <td>...</td>\n      <td>...</td>\n      <td>...</td>\n      <td>...</td>\n      <td>...</td>\n      <td>...</td>\n      <td>...</td>\n      <td>...</td>\n      <td>...</td>\n      <td>...</td>\n    </tr>\n    <tr>\n      <th>206469</th>\n      <td>57.911450</td>\n      <td>59.961727</td>\n      <td>2</td>\n      <td>32</td>\n      <td>56</td>\n      <td>89</td>\n      <td>0</td>\n      <td>0</td>\n      <td>0</td>\n      <td>0</td>\n      <td>...</td>\n      <td>5.466667</td>\n      <td>5.560000</td>\n      <td>1966.519380</td>\n      <td>1967.381818</td>\n      <td>41.00</td>\n      <td>100</td>\n      <td>0</td>\n      <td>1</td>\n      <td>0</td>\n      <td>0</td>\n    </tr>\n    <tr>\n      <th>206470</th>\n      <td>55.067345</td>\n      <td>82.960770</td>\n      <td>1</td>\n      <td>6</td>\n      <td>8</td>\n      <td>28</td>\n      <td>0</td>\n      <td>0</td>\n      <td>0</td>\n      <td>0</td>\n      <td>...</td>\n      <td>6.120370</td>\n      <td>6.078947</td>\n      <td>1965.807339</td>\n      <td>1964.461538</td>\n      <td>98.30</td>\n      <td>110</td>\n      <td>0</td>\n      <td>0</td>\n      <td>0</td>\n      <td>1</td>\n    </tr>\n    <tr>\n      <th>206471</th>\n      <td>44.998290</td>\n      <td>41.921482</td>\n      <td>13</td>\n      <td>97</td>\n      <td>157</td>\n      <td>227</td>\n      <td>0</td>\n      <td>0</td>\n      <td>0</td>\n      <td>0</td>\n      <td>...</td>\n      <td>8.894737</td>\n      <td>9.214286</td>\n      <td>1997.815789</td>\n      <td>1995.928571</td>\n      <td>921.50</td>\n      <td>100</td>\n      <td>0</td>\n      <td>0</td>\n      <td>0</td>\n      <td>1</td>\n    </tr>\n    <tr>\n      <th>206472</th>\n      <td>59.855330</td>\n      <td>30.319840</td>\n      <td>3</td>\n      <td>95</td>\n      <td>274</td>\n      <td>429</td>\n      <td>0</td>\n      <td>2</td>\n      <td>4</td>\n      <td>4</td>\n      <td>...</td>\n      <td>6.386792</td>\n      <td>8.055556</td>\n      <td>1961.481132</td>\n      <td>1962.333333</td>\n      <td>40.01</td>\n      <td>10</td>\n      <td>0</td>\n      <td>1</td>\n      <td>0</td>\n      <td>0</td>\n    </tr>\n    <tr>\n      <th>206473</th>\n      <td>56.836235</td>\n      <td>60.682053</td>\n      <td>2</td>\n      <td>67</td>\n      <td>110</td>\n      <td>143</td>\n      <td>0</td>\n      <td>0</td>\n      <td>1</td>\n      <td>1</td>\n      <td>...</td>\n      <td>11.208333</td>\n      <td>11.095238</td>\n      <td>1986.129870</td>\n      <td>1986.320000</td>\n      <td>40.20</td>\n      <td>110</td>\n      <td>0</td>\n      <td>0</td>\n      <td>0</td>\n      <td>1</td>\n    </tr>\n  </tbody>\n</table>\n<p>206474 rows × 72 columns</p>\n</div>"
     },
     "execution_count": 7,
     "metadata": {},
     "output_type": "execute_result"
    }
   ],
   "source": [
    "df_test_result = df_train_all.per_square_meter_price\n",
    "df_test_columns = dropUnusableColumns(df_train_all.drop('per_square_meter_price', axis=1))\n",
    "df_test_columns"
   ],
   "metadata": {
    "collapsed": false,
    "pycharm": {
     "name": "#%%\n"
    }
   }
  },
  {
   "cell_type": "code",
   "execution_count": 8,
   "outputs": [
    {
     "data": {
      "text/plain": "0          9.778217\n1         10.409301\n2         10.020966\n3         11.283627\n4         11.751452\n            ...    \n206469    11.013418\n206470    11.222595\n206471     9.745967\n206472    11.839819\n206473    12.048225\nName: per_square_meter_price, Length: 206474, dtype: float64"
     },
     "execution_count": 8,
     "metadata": {},
     "output_type": "execute_result"
    }
   ],
   "source": [
    "from sklearn.linear_model import LinearRegression\n",
    "\n",
    "df_test_formatted_result = resultColumnTransformer(df_test_result)\n",
    "\n",
    "regressor = LinearRegression()\n",
    "regressor.fit(df_test_columns, df_test_formatted_result)\n",
    "df_test_formatted_result"
   ],
   "metadata": {
    "collapsed": false,
    "pycharm": {
     "name": "#%%\n"
    }
   }
  },
  {
   "cell_type": "code",
   "execution_count": 9,
   "outputs": [
    {
     "data": {
      "text/plain": "       per_square_meter_price     id\n0                72158.403402      0\n1                23808.120364      1\n2                61588.056882      2\n3                41526.596875      3\n4                43854.026048      4\n...                       ...    ...\n68820            19599.049276  68820\n68821            30590.782826  68821\n68822            96217.163336  68822\n68823           145228.065765  68823\n68824            50000.268246  68824\n\n[68825 rows x 2 columns]",
      "text/html": "<div>\n<style scoped>\n    .dataframe tbody tr th:only-of-type {\n        vertical-align: middle;\n    }\n\n    .dataframe tbody tr th {\n        vertical-align: top;\n    }\n\n    .dataframe thead th {\n        text-align: right;\n    }\n</style>\n<table border=\"1\" class=\"dataframe\">\n  <thead>\n    <tr style=\"text-align: right;\">\n      <th></th>\n      <th>per_square_meter_price</th>\n      <th>id</th>\n    </tr>\n  </thead>\n  <tbody>\n    <tr>\n      <th>0</th>\n      <td>72158.403402</td>\n      <td>0</td>\n    </tr>\n    <tr>\n      <th>1</th>\n      <td>23808.120364</td>\n      <td>1</td>\n    </tr>\n    <tr>\n      <th>2</th>\n      <td>61588.056882</td>\n      <td>2</td>\n    </tr>\n    <tr>\n      <th>3</th>\n      <td>41526.596875</td>\n      <td>3</td>\n    </tr>\n    <tr>\n      <th>4</th>\n      <td>43854.026048</td>\n      <td>4</td>\n    </tr>\n    <tr>\n      <th>...</th>\n      <td>...</td>\n      <td>...</td>\n    </tr>\n    <tr>\n      <th>68820</th>\n      <td>19599.049276</td>\n      <td>68820</td>\n    </tr>\n    <tr>\n      <th>68821</th>\n      <td>30590.782826</td>\n      <td>68821</td>\n    </tr>\n    <tr>\n      <th>68822</th>\n      <td>96217.163336</td>\n      <td>68822</td>\n    </tr>\n    <tr>\n      <th>68823</th>\n      <td>145228.065765</td>\n      <td>68823</td>\n    </tr>\n    <tr>\n      <th>68824</th>\n      <td>50000.268246</td>\n      <td>68824</td>\n    </tr>\n  </tbody>\n</table>\n<p>68825 rows × 2 columns</p>\n</div>"
     },
     "execution_count": 9,
     "metadata": {},
     "output_type": "execute_result"
    }
   ],
   "source": [
    "\n",
    "lab4_res_array = regressor.predict(dropUnusableColumns(df_test))\n",
    "lab4_res_array\n",
    "\n",
    "lab4_res_df = pd.DataFrame(lab4_res_array, columns=['per_square_meter_price'])\n",
    "lab4_res_df['per_square_meter_price'] = np.exp(lab4_res_df['per_square_meter_price'])\n",
    "lab4_res_df.index.names = [\"id\"]\n",
    "lab4_res_df = lab4_res_df.reset_index(level=0)\n",
    "lab4_res_df = lab4_res_df.reindex(columns=['per_square_meter_price', 'id'])\n",
    "lab4_res_df.to_csv(\"res/res_.csv\", index=False)\n",
    "lab4_res_df"
   ],
   "metadata": {
    "collapsed": false,
    "pycharm": {
     "name": "#%%\n"
    }
   }
  },
  {
   "cell_type": "code",
   "execution_count": 11,
   "outputs": [
    {
     "data": {
      "text/plain": "                                   cor\nlat                           0.156673\nlng                          -0.275346\nosm_amenity_points_in_0.001   0.357936\nosm_amenity_points_in_0.005   0.428900\nosm_amenity_points_in_0.0075  0.438521\n...                                ...\nrealty_type                   0.168014\nis_negative_floor            -0.013997\nis_khrushchyovka              0.226472\nis_high_floor                 0.108561\nis_uknown                    -0.234333\n\n[72 rows x 1 columns]",
      "text/html": "<div>\n<style scoped>\n    .dataframe tbody tr th:only-of-type {\n        vertical-align: middle;\n    }\n\n    .dataframe tbody tr th {\n        vertical-align: top;\n    }\n\n    .dataframe thead th {\n        text-align: right;\n    }\n</style>\n<table border=\"1\" class=\"dataframe\">\n  <thead>\n    <tr style=\"text-align: right;\">\n      <th></th>\n      <th>cor</th>\n    </tr>\n  </thead>\n  <tbody>\n    <tr>\n      <th>lat</th>\n      <td>0.156673</td>\n    </tr>\n    <tr>\n      <th>lng</th>\n      <td>-0.275346</td>\n    </tr>\n    <tr>\n      <th>osm_amenity_points_in_0.001</th>\n      <td>0.357936</td>\n    </tr>\n    <tr>\n      <th>osm_amenity_points_in_0.005</th>\n      <td>0.428900</td>\n    </tr>\n    <tr>\n      <th>osm_amenity_points_in_0.0075</th>\n      <td>0.438521</td>\n    </tr>\n    <tr>\n      <th>...</th>\n      <td>...</td>\n    </tr>\n    <tr>\n      <th>realty_type</th>\n      <td>0.168014</td>\n    </tr>\n    <tr>\n      <th>is_negative_floor</th>\n      <td>-0.013997</td>\n    </tr>\n    <tr>\n      <th>is_khrushchyovka</th>\n      <td>0.226472</td>\n    </tr>\n    <tr>\n      <th>is_high_floor</th>\n      <td>0.108561</td>\n    </tr>\n    <tr>\n      <th>is_uknown</th>\n      <td>-0.234333</td>\n    </tr>\n  </tbody>\n</table>\n<p>72 rows × 1 columns</p>\n</div>"
     },
     "execution_count": 11,
     "metadata": {},
     "output_type": "execute_result"
    }
   ],
   "source": [
    "def correlationCalculate(dataTab, target):\n",
    "    cor_df = pd.DataFrame(columns=['cor'])\n",
    "    for col in dataTab.columns:\n",
    "        cor_df.loc[col] = [target.corr(dataTab[col])]\n",
    "    return cor_df\n",
    "\n",
    "correlationCalculate(df_test_columns, df_test_formatted_result).so"
   ],
   "metadata": {
    "collapsed": false,
    "pycharm": {
     "name": "#%%\n"
    }
   }
  },
  {
   "cell_type": "code",
   "execution_count": 10,
   "outputs": [],
   "source": [],
   "metadata": {
    "collapsed": false,
    "pycharm": {
     "name": "#%%\n"
    }
   }
  }
 ],
 "metadata": {
  "kernelspec": {
   "display_name": "Python 3",
   "language": "python",
   "name": "python3"
  },
  "language_info": {
   "codemirror_mode": {
    "name": "ipython",
    "version": 2
   },
   "file_extension": ".py",
   "mimetype": "text/x-python",
   "name": "python",
   "nbconvert_exporter": "python",
   "pygments_lexer": "ipython2",
   "version": "2.7.6"
  }
 },
 "nbformat": 4,
 "nbformat_minor": 0
}